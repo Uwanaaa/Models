{
  "nbformat": 4,
  "nbformat_minor": 0,
  "metadata": {
    "colab": {
      "provenance": [],
      "authorship_tag": "ABX9TyOVa1ItonMDpLHt+mT8lWUQ",
      "include_colab_link": true
    },
    "kernelspec": {
      "name": "python3",
      "display_name": "Python 3"
    },
    "language_info": {
      "name": "python"
    }
  },
  "cells": [
    {
      "cell_type": "markdown",
      "metadata": {
        "id": "view-in-github",
        "colab_type": "text"
      },
      "source": [
        "<a href=\"https://colab.research.google.com/github/Uwanaaa/Models/blob/main/Regression_Model.ipynb\" target=\"_parent\"><img src=\"https://colab.research.google.com/assets/colab-badge.svg\" alt=\"Open In Colab\"/></a>"
      ]
    },
    {
      "cell_type": "code",
      "execution_count": 1,
      "metadata": {
        "id": "U1gs-kHC7I2N"
      },
      "outputs": [],
      "source": [
        "import tensorflow as tf\n",
        "import pandas as pd\n",
        "from matplotlib import pyplot as plt"
      ]
    },
    {
      "cell_type": "code",
      "source": [
        "#Data\n",
        "my_feature = ([1.0, 2.0,  3.0,  4.0,  5.0,  6.0,  7.0,  8.0,  9.0, 10.0, 11.0, 12.0])\n",
        "my_label   = ([5.0, 8.8,  9.6, 14.2, 18.8, 19.5, 21.4, 26.8, 28.9, 32.0, 33.8, 38.2])"
      ],
      "metadata": {
        "id": "JeaDQeRiqCpq"
      },
      "execution_count": null,
      "outputs": []
    },
    {
      "cell_type": "code",
      "source": [
        "def build_model(learning_rate):\n",
        "  model = tf.keras.models.Sequential()\n",
        "  model.add(tf.keras.layers.Dense(unit= 1,input_shape= (1,)))\n",
        "  model.compile(tf.keras.optimizers.experimental.RMSprop(learning_rate=learning_rate),\n",
        "                loss = 'mean_squared_error',\n",
        "                metrics= [tf.keras.metrics.RootMeanSquaredError])\n",
        "  return model"
      ],
      "metadata": {
        "id": "pf3HPPox838I"
      },
      "execution_count": 2,
      "outputs": []
    },
    {
      "cell_type": "code",
      "source": [
        "def train_model(model,features,label,epochs,batch_size):\n",
        "  training = model.fit(x= features, y= label , batch_size= batch_size, epochs= epochs)\n",
        "\n",
        "  weights = model.get_weights()[0]\n",
        "  bias = model.get_weights()[1]\n",
        "\n",
        "  epochs = pd.DataFrame(training.training)\n",
        "\n",
        "  loss = epochs['root_mean_squared_error']\n",
        "\n",
        "  return weights,bias,epochs,loss"
      ],
      "metadata": {
        "id": "51FI4JgRPELV"
      },
      "execution_count": null,
      "outputs": []
    },
    {
      "cell_type": "code",
      "source": [
        "def plot_model(weights,bias,features,label):\n",
        "  plt.scatter(label,features)\n",
        "\n",
        "  x1 = 0\n",
        "  y1 = weights\n",
        "  x2 = features[-1]\n",
        "  y2 = (weights * x2) + bias\n",
        "  plt.plot([x1,x2],[y1,y2], c = 'r')\n",
        "\n",
        "  plt.xlabel('Label')\n",
        "  plt.ylabel('Features')\n",
        "\n",
        "  plt.show()"
      ],
      "metadata": {
        "id": "5Qfs6-XrclU8"
      },
      "execution_count": null,
      "outputs": []
    },
    {
      "cell_type": "code",
      "source": [
        "def loss_curve(epochs,loss):\n",
        "  plt.figure()\n",
        "  plt.plot(epochs,loss,label = 'Loss')\n",
        "\n",
        "  plt.xlabel('Epochs')\n",
        "  plt.ylabael('Loss')\n",
        "\n",
        "  plt.ylim([loss.min() * 0.98, loss.max()])\n",
        "\n",
        "  plt.show()"
      ],
      "metadata": {
        "id": "QwMzWC0-jfYt"
      },
      "execution_count": null,
      "outputs": []
    },
    {
      "cell_type": "code",
      "source": [
        "learning_rate = 0.01\n",
        "epochs = 15\n",
        "batch_size = 12\n",
        "\n",
        "regress_model = build_model(learning_rate)\n",
        "weights, bias, epochs, loss = train_model(model,features,label,epochs,batch_size)\n",
        "plot_model(weights,bias,epoch,batch_size)\n",
        "loss_curve(epochs,loss)\n"
      ],
      "metadata": {
        "id": "KypJkku1qZfC"
      },
      "execution_count": null,
      "outputs": []
    }
  ]
}