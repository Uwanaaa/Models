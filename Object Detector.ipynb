{
  "nbformat": 4,
  "nbformat_minor": 0,
  "metadata": {
    "colab": {
      "provenance": [],
      "authorship_tag": "ABX9TyMGxsi3xXaVw9zo9ni7cDTO",
      "include_colab_link": true
    },
    "kernelspec": {
      "name": "python3",
      "display_name": "Python 3"
    },
    "language_info": {
      "name": "python"
    }
  },
  "cells": [
    {
      "cell_type": "markdown",
      "metadata": {
        "id": "view-in-github",
        "colab_type": "text"
      },
      "source": [
        "<a href=\"https://colab.research.google.com/github/Uwanaaa/Models/blob/main/Object%20Detector.ipynb\" target=\"_parent\"><img src=\"https://colab.research.google.com/assets/colab-badge.svg\" alt=\"Open In Colab\"/></a>"
      ]
    },
    {
      "cell_type": "code",
      "execution_count": 1,
      "metadata": {
        "id": "NdOyTaJTNe-f"
      },
      "outputs": [],
      "source": [
        "from keras.api._v2.keras import activations\n",
        "from keras.layers.pooling.average_pooling2d import AveragePooling2D\n",
        "import tensorflow as tf\n",
        "\n",
        "CLASSES = 2\n",
        "\n",
        "def build_classifier(inputs):\n",
        "\n",
        "      x = tf.keras.layers.Conv2D(16,kernel_size=3,activation='relu',input_shape=(input_size,input_size,1))(inputs),\n",
        "      x = tf.keras.layers.AveragePooling2D(2,2)(x),\n",
        "\n",
        "      x = tf.keras.layers.Conv2d(32,kernel_size=3,activation='relu',input_shape=(input_size,input_size,1))(x),\n",
        "      x = tf.keras.layers.AveragePooling2D(2,2) (x),\n",
        "\n",
        "      x = tf.keras.layers.Conv2D(64,kernel_size=3,activation='relu',input_shape=(input_size,input_size,1))(x),\n",
        "      x = tf.keras.layers.AveragePooling2D(2,2)(x),\n",
        "\n",
        "      x = tf.keras.layers.Flatten()(inputs),\n",
        "      x = tf.keras.layers.Dense(64,activation='relu')(x),\n",
        "\n",
        "      x = tf.keras.layers.Dense(CLASSES,activation='softmax')(x),\n",
        "\n",
        "      return x\n",
        "\n",
        "  def\n",
        "\n",
        "\n"
      ]
    }
  ]
}