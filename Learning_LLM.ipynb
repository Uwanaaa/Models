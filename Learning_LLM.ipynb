{
  "nbformat": 4,
  "nbformat_minor": 0,
  "metadata": {
    "colab": {
      "provenance": [],
      "authorship_tag": "ABX9TyMtzo2DKCyOEUwRGzOz1FjI",
      "include_colab_link": true
    },
    "kernelspec": {
      "name": "python3",
      "display_name": "Python 3"
    },
    "language_info": {
      "name": "python"
    }
  },
  "cells": [
    {
      "cell_type": "markdown",
      "metadata": {
        "id": "view-in-github",
        "colab_type": "text"
      },
      "source": [
        "<a href=\"https://colab.research.google.com/github/Uwanaaa/Models/blob/main/Learning_LLM.ipynb\" target=\"_parent\"><img src=\"https://colab.research.google.com/assets/colab-badge.svg\" alt=\"Open In Colab\"/></a>"
      ]
    },
    {
      "cell_type": "code",
      "source": [
        "from langchain.prompts import PromptTemplate\n",
        "from langchain.llms import HuggingFace\n",
        "from langchain.chains import LLMChain"
      ],
      "metadata": {
        "id": "A17k-4UIzQXS"
      },
      "execution_count": null,
      "outputs": []
    },
    {
      "cell_type": "code",
      "source": [
        "prompt = PromptTemplate(\n",
        "    input_variables = [\"food\",\"action\"],\n",
        "    template = \"Decsribe how to {action} {food}\"\n",
        ")\n",
        "\n",
        "model = HuggingFace(\n",
        "    name = \"gpt-neo-2.7B\",\n",
        "    temperature = 0.7\n",
        ")\n",
        "\n",
        "chain = LLMChain(llm=model,prompt=prompt)\n",
        "chain.run(\"Oyo\")"
      ],
      "metadata": {
        "id": "Hb_NwiRGzUqm"
      },
      "execution_count": null,
      "outputs": []
    },
    {
      "cell_type": "code",
      "source": [
        "from langchain.agents import initialize_agent, AgentType, load_tools\n",
        "from langchain.llms import OpenAI"
      ],
      "metadata": {
        "id": "ERj38c57zYnY"
      },
      "execution_count": null,
      "outputs": []
    },
    {
      "cell_type": "code",
      "source": [
        "model = OpenAI(temperature = 0)\n",
        "tools = load_tools([\"pal-math\"],llm=model)\n",
        "agent = initialize_agent(model,tools, agent= AgentType.ZERO_SHOT_REACT_DESCRIPTION, verbose = True)\n",
        "response = agent.run(\"What is 2 + 4\")\n",
        "print(response)"
      ],
      "metadata": {
        "id": "a7mPqv0TzivO"
      },
      "execution_count": null,
      "outputs": []
    }
  ]
}